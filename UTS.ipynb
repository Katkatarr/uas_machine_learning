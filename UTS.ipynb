{
  "nbformat": 4,
  "nbformat_minor": 0,
  "metadata": {
    "colab": {
      "provenance": []
    },
    "kernelspec": {
      "name": "python3",
      "display_name": "Python 3"
    },
    "language_info": {
      "name": "python"
    }
  },
  "cells": [
    {
      "cell_type": "markdown",
      "source": [
        "1. Mengidentifikasi nama dan jenis atribut dari seluruh atribut prediktor dan atribut label yang terdapat pada dataset tersebut. Sebelum menentukan jenis atribut, Anda dapat memastikan terlebih dahulu berapa banyak nilai unik yang terdapat di dalam setiap atribut untuk atribut yang berjenis kategorik sebutkan nilai unik yang terdapat pada atribut tersebut\n",
        "\n",
        "  **Nominal / Kategorik** : n_cores\n",
        "\n",
        "  **Biner**\n",
        "  - Simetris:dual_sim, touch_screen, wifi\n",
        "  - Asimetris: blue, four_g, three_g\n",
        "\n",
        "  **Numerik**\n",
        "  - Skala Rasio : battery_power, clock_speed, fc, int_memory, m_dep, mobile_wt, pc, px_height, px_width, ram, sc_h, sc_w, talk_time\n",
        "\n",
        "  Atribut Label : price_range\n",
        "\n",
        "  nilai unik yang terdapat di dalam setiap atribut untuk atribut yang berjenis kategorik sebutkan nilai unik yang terdapat pada atribut tersebut\n",
        "\n",
        "    n_cores: [2, 3, 5, 6, 1, 8, 4, 7]\n"
      ],
      "metadata": {
        "id": "4DeYhKg9LAdL"
      }
    },
    {
      "cell_type": "markdown",
      "source": [
        "2. Melakukan praproses data. Detail untuk pengerjaan praproses data adalah sebagai berikut.\n",
        "\n",
        "  a. Pisahkan bagian atribut prediktor dengan label data menjadi dua variabel data\n",
        "\n",
        "  b. Gunakan simpleImputer untuk menangani missing values, dengan nilai rata rata dari atribut data sebagai strategi pengisian nilai\n",
        "\n",
        "  c. Terapkan StandardScaler untuk mengubah nilai atribut prediktor, agar nilai dari masing-masing atribut menjadi seragam\n",
        "\n",
        "  d. Tampilkan statistik deskriptif dari atribut data sebelum dan setelah dilakukan pengisian missing values dan standarisasi\n",
        "\n",
        "\n",
        "  Missing value:  battery_power, int_memory, mobile_wt, and ram.\n",
        "  Kolom Target label -> price_range"
      ],
      "metadata": {
        "id": "aqpal62TTsow"
      }
    },
    {
      "cell_type": "code",
      "execution_count": 4,
      "metadata": {
        "colab": {
          "base_uri": "https://localhost:8080/"
        },
        "id": "hGW9y95ddS52",
        "outputId": "8795d8cc-c6cc-40bd-9cdf-df28963cc3c0"
      },
      "outputs": [
        {
          "output_type": "stream",
          "name": "stdout",
          "text": [
            "Descriptive statistics before imputing missing values:\n",
            "       battery_power       blue  clock_speed     dual_sim           fc  \\\n",
            "count    1990.000000  2000.0000  2000.000000  2000.000000  2000.000000   \n",
            "mean     1237.867839     0.4950     1.522250     0.509500     4.309500   \n",
            "std       439.676025     0.5001     0.816004     0.500035     4.341444   \n",
            "min       501.000000     0.0000     0.500000     0.000000     0.000000   \n",
            "25%       850.250000     0.0000     0.700000     0.000000     1.000000   \n",
            "50%      1225.000000     0.0000     1.500000     1.000000     3.000000   \n",
            "75%      1615.000000     1.0000     2.200000     1.000000     7.000000   \n",
            "max      1998.000000     1.0000     3.000000     1.000000    19.000000   \n",
            "\n",
            "            four_g   int_memory        m_dep    mobile_wt      n_cores  \\\n",
            "count  2000.000000  1990.000000  2000.000000  1990.000000  2000.000000   \n",
            "mean      0.521500    31.987940     0.501750   140.344221     4.520500   \n",
            "std       0.499662    18.136427     0.288416    35.407114     2.287837   \n",
            "min       0.000000     2.000000     0.100000    80.000000     1.000000   \n",
            "25%       0.000000    16.000000     0.200000   109.000000     3.000000   \n",
            "50%       1.000000    32.000000     0.500000   141.000000     4.000000   \n",
            "75%       1.000000    48.000000     0.800000   170.000000     7.000000   \n",
            "max       1.000000    64.000000     1.000000   200.000000     8.000000   \n",
            "\n",
            "                pc    px_height     px_width          ram         sc_h  \\\n",
            "count  2000.000000  2000.000000  2000.000000  1990.000000  2000.000000   \n",
            "mean      9.916500   645.108000  1251.515500  2124.991960    12.306500   \n",
            "std       6.064315   443.780811   432.199447  1084.885362     4.213245   \n",
            "min       0.000000     0.000000   500.000000   256.000000     5.000000   \n",
            "25%       5.000000   282.750000   874.750000  1208.250000     9.000000   \n",
            "50%      10.000000   564.000000  1247.000000  2146.500000    12.000000   \n",
            "75%      15.000000   947.250000  1633.000000  3065.500000    16.000000   \n",
            "max      20.000000  1960.000000  1998.000000  3998.000000    19.000000   \n",
            "\n",
            "              sc_w    talk_time      three_g  touch_screen         wifi  \n",
            "count  2000.000000  2000.000000  2000.000000   2000.000000  2000.000000  \n",
            "mean      5.767000    11.011000     0.761500      0.503000     0.507000  \n",
            "std       4.356398     5.463955     0.426273      0.500116     0.500076  \n",
            "min       0.000000     2.000000     0.000000      0.000000     0.000000  \n",
            "25%       2.000000     6.000000     1.000000      0.000000     0.000000  \n",
            "50%       5.000000    11.000000     1.000000      1.000000     1.000000  \n",
            "75%       9.000000    16.000000     1.000000      1.000000     1.000000  \n",
            "max      18.000000    20.000000     1.000000      1.000000     1.000000  \n",
            "\n",
            "Descriptive statistics after imputing missing values:\n",
            "       battery_power       blue  clock_speed     dual_sim           fc  \\\n",
            "count    2000.000000  2000.0000  2000.000000  2000.000000  2000.000000   \n",
            "mean     1237.867839     0.4950     1.522250     0.509500     4.309500   \n",
            "std       438.574906     0.5001     0.816004     0.500035     4.341444   \n",
            "min       501.000000     0.0000     0.500000     0.000000     0.000000   \n",
            "25%       851.750000     0.0000     0.700000     0.000000     1.000000   \n",
            "50%      1230.500000     0.0000     1.500000     1.000000     3.000000   \n",
            "75%      1614.000000     1.0000     2.200000     1.000000     7.000000   \n",
            "max      1998.000000     1.0000     3.000000     1.000000    19.000000   \n",
            "\n",
            "            four_g   int_memory        m_dep    mobile_wt      n_cores  \\\n",
            "count  2000.000000  2000.000000  2000.000000  2000.000000  2000.000000   \n",
            "mean      0.521500    31.987940     0.501750   140.344221     4.520500   \n",
            "std       0.499662    18.091006     0.288416    35.318441     2.287837   \n",
            "min       0.000000     2.000000     0.100000    80.000000     1.000000   \n",
            "25%       0.000000    16.000000     0.200000   109.000000     3.000000   \n",
            "50%       1.000000    31.987940     0.500000   141.000000     4.000000   \n",
            "75%       1.000000    48.000000     0.800000   170.000000     7.000000   \n",
            "max       1.000000    64.000000     1.000000   200.000000     8.000000   \n",
            "\n",
            "                pc    px_height     px_width          ram         sc_h  \\\n",
            "count  2000.000000  2000.000000  2000.000000  2000.000000  2000.000000   \n",
            "mean      9.916500   645.108000  1251.515500  2124.991960    12.306500   \n",
            "std       6.064315   443.780811   432.199447  1082.168389     4.213245   \n",
            "min       0.000000     0.000000   500.000000   256.000000     5.000000   \n",
            "25%       5.000000   282.750000   874.750000  1210.750000     9.000000   \n",
            "50%      10.000000   564.000000  1247.000000  2130.500000    12.000000   \n",
            "75%      15.000000   947.250000  1633.000000  3060.000000    16.000000   \n",
            "max      20.000000  1960.000000  1998.000000  3998.000000    19.000000   \n",
            "\n",
            "              sc_w    talk_time      three_g  touch_screen         wifi  \n",
            "count  2000.000000  2000.000000  2000.000000   2000.000000  2000.000000  \n",
            "mean      5.767000    11.011000     0.761500      0.503000     0.507000  \n",
            "std       4.356398     5.463955     0.426273      0.500116     0.500076  \n",
            "min       0.000000     2.000000     0.000000      0.000000     0.000000  \n",
            "25%       2.000000     6.000000     1.000000      0.000000     0.000000  \n",
            "50%       5.000000    11.000000     1.000000      1.000000     1.000000  \n",
            "75%       9.000000    16.000000     1.000000      1.000000     1.000000  \n",
            "max      18.000000    20.000000     1.000000      1.000000     1.000000  \n",
            "\n",
            "Descriptive statistics after standardization:\n",
            "       battery_power          blue   clock_speed      dual_sim            fc  \\\n",
            "count   2.000000e+03  2.000000e+03  2.000000e+03  2.000000e+03  2.000000e+03   \n",
            "mean   -1.563194e-16 -1.243450e-17 -1.545430e-16  8.082424e-17  5.861978e-17   \n",
            "std     1.000250e+00  1.000250e+00  1.000250e+00  1.000250e+00  1.000250e+00   \n",
            "min    -1.680562e+00 -9.900495e-01 -1.253064e+00 -1.019184e+00 -9.928904e-01   \n",
            "25%    -8.806122e-01 -9.900495e-01 -1.007906e+00 -1.019184e+00 -7.624947e-01   \n",
            "50%    -1.680370e-02 -9.900495e-01 -2.727384e-02  9.811771e-01 -3.017032e-01   \n",
            "75%     8.578380e-01  1.010051e+00  8.307794e-01  9.811771e-01  6.198797e-01   \n",
            "max     1.733620e+00  1.010051e+00  1.811412e+00  9.811771e-01  3.384628e+00   \n",
            "\n",
            "             four_g    int_memory         m_dep     mobile_wt       n_cores  \\\n",
            "count  2.000000e+03  2.000000e+03  2.000000e+03  2.000000e+03  2.000000e+03   \n",
            "mean   1.048051e-16  5.684342e-17 -1.030287e-16 -3.765876e-16 -7.727152e-17   \n",
            "std    1.000250e+00  1.000250e+00  1.000250e+00  1.000250e+00  1.000250e+00   \n",
            "min   -1.043966e+00 -1.658030e+00 -1.393304e+00 -1.709003e+00 -1.539175e+00   \n",
            "25%   -1.043966e+00 -8.839717e-01 -1.046495e+00 -8.876966e-01 -6.647678e-01   \n",
            "50%    9.578860e-01  0.000000e+00 -6.069151e-03  1.857225e-02 -2.275644e-01   \n",
            "75%    9.578860e-01  8.853054e-01  1.034357e+00  8.398784e-01  1.084046e+00   \n",
            "max    9.578860e-01  1.769944e+00  1.727974e+00  1.689505e+00  1.521249e+00   \n",
            "\n",
            "                 pc     px_height      px_width           ram          sc_h  \\\n",
            "count  2.000000e+03  2.000000e+03  2.000000e+03  2.000000e+03  2.000000e+03   \n",
            "mean   1.403322e-16  1.181277e-16  6.084022e-17 -1.492140e-16  4.884981e-17   \n",
            "std    1.000250e+00  1.000250e+00  1.000250e+00  1.000250e+00  1.000250e+00   \n",
            "min   -1.635631e+00 -1.454027e+00 -1.739251e+00 -1.727512e+00 -1.734608e+00   \n",
            "25%   -8.109291e-01 -8.167289e-01 -8.719579e-01 -8.450354e-01 -7.849833e-01   \n",
            "50%    1.377252e-02 -1.828116e-01 -1.045034e-02  5.091091e-03 -7.276497e-02   \n",
            "75%    8.384742e-01  6.810064e-01  8.828792e-01  8.642295e-01  8.768595e-01   \n",
            "max    1.663176e+00  2.963672e+00  1.727608e+00  1.731225e+00  1.589078e+00   \n",
            "\n",
            "               sc_w     talk_time       three_g  touch_screen          wifi  \n",
            "count  2.000000e+03  2.000000e+03  2.000000e+03  2.000000e+03  2.000000e+03  \n",
            "mean  -5.506706e-17  1.421085e-16  1.421085e-17 -5.417888e-17  1.421085e-17  \n",
            "std    1.000250e+00  1.000250e+00  1.000250e+00  1.000250e+00  1.000250e+00  \n",
            "min   -1.324131e+00 -1.649584e+00 -1.786861e+00 -1.006018e+00 -1.014099e+00  \n",
            "25%   -8.649215e-01 -9.173306e-01  5.596406e-01 -1.006018e+00 -1.014099e+00  \n",
            "50%   -1.761069e-01 -2.013697e-03  5.596406e-01  9.940179e-01  9.860966e-01  \n",
            "75%    7.423125e-01  9.133032e-01  5.596406e-01  9.940179e-01  9.860966e-01  \n",
            "max    2.808756e+00  1.645557e+00  5.596406e-01  9.940179e-01  9.860966e-01  \n"
          ]
        }
      ],
      "source": [
        "# Import necessary libraries\n",
        "import numpy as np\n",
        "import pandas as pd\n",
        "from sklearn.preprocessing import StandardScaler\n",
        "from sklearn.impute import SimpleImputer\n",
        "\n",
        "# Load the data from the uploaded file\n",
        "file_path = '/content/mobileprice_modified.csv'  # Update this if the path is different\n",
        "data = pd.read_csv(file_path)\n",
        "\n",
        "# Separate predictor attributes and labels\n",
        "# Assume 'price_range' is the label column\n",
        "predictor_data = data.drop(columns=['price_range'])\n",
        "label_data = data['price_range']\n",
        "\n",
        "# Step 1: Show descriptive statistics before handling missing values\n",
        "print(\"Descriptive statistics before imputing missing values:\")\n",
        "print(predictor_data.describe())\n",
        "\n",
        "# Step 2: Impute missing values with the mean of each attribute\n",
        "imputer = SimpleImputer(strategy='mean')\n",
        "predictor_data_imputed = pd.DataFrame(imputer.fit_transform(predictor_data), columns=predictor_data.columns)\n",
        "\n",
        "# Step 3: Show descriptive statistics after imputing missing values\n",
        "print(\"\\nDescriptive statistics after imputing missing values:\")\n",
        "print(predictor_data_imputed.describe())\n",
        "\n",
        "# Step 4: Standardize the predictor attributes\n",
        "scaler = StandardScaler()\n",
        "predictor_data_scaled = pd.DataFrame(scaler.fit_transform(predictor_data_imputed), columns=predictor_data_imputed.columns)\n",
        "\n",
        "# Step 5: Show descriptive statistics after standardization\n",
        "print(\"\\nDescriptive statistics after standardization:\")\n",
        "print(predictor_data_scaled.describe())\n",
        "\n",
        "# Combine the scaled predictors and labels if you need a complete dataset after preprocessing\n",
        "processed_data = pd.concat([predictor_data_scaled, label_data.reset_index(drop=True)], axis=1)\n"
      ]
    },
    {
      "cell_type": "markdown",
      "source": [
        "3. Membangun model klasifikasi berdasarkan dataset yang telah dilakukan praposes data. Data untuk pengerjaan klasifikasi adalah sebagai berikut.\n",
        "\n",
        "  a. Gunakanlah salah satu algoritma berikut untuk membangun model klasifikasi: decision tree atau SVM (parameter yang digunakan boleh disesuaikan dengan bebas)\n",
        "\n",
        "  b. gunakanlah metode holdout untuk membagi keseluruhan dataset menjadi data training dan data testing, dengan proposi 85% data training dan 15% data testing\n",
        "\n",
        "  c. Tampilkan confusion matrix dan akurasi dari model klasifikasi\n",
        "\n"
      ],
      "metadata": {
        "id": "81WhHq6sYOz3"
      }
    },
    {
      "cell_type": "code",
      "source": [
        "# Import libraries\n",
        "from sklearn.model_selection import train_test_split\n",
        "from sklearn.tree import DecisionTreeClassifier  # Use SVC if you prefer SVM\n",
        "from sklearn.metrics import confusion_matrix, accuracy_score\n",
        "import seaborn as sns\n",
        "import matplotlib.pyplot as plt\n",
        "\n",
        "# Step 1: Load the preprocessed dataset\n",
        "# Assuming `processed_data` from previous preprocessing steps\n",
        "X = processed_data.drop(columns='price_range')  # Predictor attributes\n",
        "y = processed_data['price_range']  # Label data\n",
        "\n",
        "# Step 2: Split dataset into training (85%) and testing (15%) sets\n",
        "X_train, X_test, y_train, y_test = train_test_split(X, y, test_size=0.15, random_state=42)\n",
        "\n",
        "# Step 3: Initialize and train the Decision Tree model\n",
        "model = DecisionTreeClassifier(random_state=42)  # Adjust parameters as desired\n",
        "model.fit(X_train, y_train)\n",
        "\n",
        "# Step 4: Make predictions on the test set\n",
        "y_pred = model.predict(X_test)\n",
        "\n",
        "# Step 5: Evaluate the model\n",
        "# Confusion matrix\n",
        "conf_matrix = confusion_matrix(y_test, y_pred)\n",
        "accuracy = accuracy_score(y_test, y_pred)\n",
        "\n",
        "# Display confusion matrix\n",
        "plt.figure(figsize=(8, 6))\n",
        "sns.heatmap(conf_matrix, annot=True, fmt='d', cmap='Blues', cbar=False)\n",
        "plt.xlabel('Predicted Labels')\n",
        "plt.ylabel('True Labels')\n",
        "plt.title('Confusion Matrix')\n",
        "plt.show()\n",
        "\n",
        "# Display accuracy\n",
        "print(f\"Accuracy of the model: {accuracy:.2f}\")\n"
      ],
      "metadata": {
        "colab": {
          "base_uri": "https://localhost:8080/",
          "height": 581
        },
        "id": "mFeVdtpias3M",
        "outputId": "35f01709-47fc-40d5-cdec-c57c400b9825"
      },
      "execution_count": 5,
      "outputs": [
        {
          "output_type": "display_data",
          "data": {
            "text/plain": [
              "<Figure size 800x600 with 1 Axes>"
            ],
            "image/png": "[encoded data removed]"
          },
          "metadata": {}
        },
        {
          "output_type": "stream",
          "name": "stdout",
          "text": [
            "Accuracy of the model: 0.84\n"
          ]
        }
      ]
    },
    {
      "cell_type": "markdown",
      "source": [
        "4. Membangun model clustering berdasarkan dataset yang telah dilkaukan praproses data, jika memungkinkan Detail pengerjaan clustering adalah sebagai berikut.\n",
        "\n",
        "  a. Gunakan algoritma K-Means untuk melakukan clustering (Parameter yang digunakan boleh disesuaikan dengan bebas)\n",
        "\n",
        "  b. Tampilkan silhouette score dai model clustering"
      ],
      "metadata": {
        "id": "lo4IhhScbB0T"
      }
    },
    {
      "cell_type": "code",
      "source": [
        "# Import libraries\n",
        "from sklearn.cluster import KMeans\n",
        "from sklearn.metrics import silhouette_score\n",
        "\n",
        "# Step 1: Gunakan algoritma K-Means\n",
        "# Menentukan jumlah cluster (misalnya 3, bisa disesuaikan dengan data)\n",
        "num_clusters = 3\n",
        "kmeans = KMeans(n_clusters=num_clusters, random_state=42)\n",
        "kmeans.fit(X)  # Menggunakan X dari data preprocessed (tanpa label)\n",
        "\n",
        "# Step 2: Menghitung dan menampilkan silhouette score\n",
        "# Silhouette score untuk menilai kualitas clustering\n",
        "labels = kmeans.labels_\n",
        "silhouette_avg = silhouette_score(X, labels)\n",
        "\n",
        "print(f\"Silhouette Score untuk model K-Means dengan {num_clusters} cluster: {silhouette_avg:.2f}\")\n"
      ],
      "metadata": {
        "colab": {
          "base_uri": "https://localhost:8080/"
        },
        "id": "i3MCJh5_baeU",
        "outputId": "21bfc847-7c7e-42b2-ba2a-3fd4630d6bf3"
      },
      "execution_count": 6,
      "outputs": [
        {
          "output_type": "stream",
          "name": "stdout",
          "text": [
            "Silhouette Score untuk model K-Means dengan 3 cluster: 0.06\n"
          ]
        }
      ]
    }
  ]
}